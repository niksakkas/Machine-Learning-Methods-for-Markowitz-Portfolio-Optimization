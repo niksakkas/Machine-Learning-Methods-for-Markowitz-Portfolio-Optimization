{
 "cells": [
  {
   "cell_type": "markdown",
   "metadata": {},
   "source": [
    "### PGMB "
   ]
  },
  {
   "cell_type": "code",
   "execution_count": 1,
   "metadata": {},
   "outputs": [],
   "source": [
    "import numpy as np\n",
    "\n",
    "def PGMB(x0,s,alpha,beta,epsilon, max_iter, Phi, w_ew, k):\n",
    "    print(w_ew.shape)\n",
    "    x = x0\n",
    "    grad = g(Phi,x,w_ew)\n",
    "    it = 0\n",
    "    while np.linalg.norm(grad) > epsilon and it < max_iter:\n",
    "        fun_val = f(Phi,x,w_ew)\n",
    "        it+=1\n",
    "        t=s\n",
    "        while (fun_val - f(Phi,x-t*grad,w_ew)) < alpha*t*(np.linalg.norm(grad))**2:\n",
    "            t *= beta\n",
    "        grad = g(Phi,x,w_ew)\n",
    "        x = p(x-t*grad, k)\n",
    "#         print(\"iter number = \", it, \"norm of grad = \", np.linalg.norm(grad),\"X = \",x[1])\n",
    "    return x"
   ]
  },
  {
   "cell_type": "code",
   "execution_count": null,
   "metadata": {},
   "outputs": [],
   "source": []
  }
 ],
 "metadata": {
  "kernelspec": {
   "display_name": "Python 3",
   "language": "python",
   "name": "python3"
  },
  "language_info": {
   "codemirror_mode": {
    "name": "ipython",
    "version": 3
   },
   "file_extension": ".py",
   "mimetype": "text/x-python",
   "name": "python",
   "nbconvert_exporter": "python",
   "pygments_lexer": "ipython3",
   "version": "3.7.6"
  }
 },
 "nbformat": 4,
 "nbformat_minor": 4
}
