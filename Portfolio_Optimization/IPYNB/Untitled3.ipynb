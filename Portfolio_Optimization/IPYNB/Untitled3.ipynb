{
 "cells": [
  {
   "cell_type": "code",
   "execution_count": null,
   "metadata": {},
   "outputs": [],
   "source": [
    "s = RandStream.create('mt19937ar','seed',0)\n",
    "RandStream.setDefaultStream(s)\n",
    "\n",
    "m = 500       \n",
    "n = 2500\n",
    "\n",
    "x0 = sprandn(n,1,0.05)\n",
    "A = randn(m,n)\n",
    "A = A*spdiags(1./sqrt(sum(A.^2))',0,n,n); % normalize columns\n",
    "v = sqrt(0.001)*randn(m,1)\n",
    "b = A*x0 + v\n",
    "\n",
    "fprintf('solving instance with %d examples, %d variables\\n', m, n)\n",
    "fprintf('nnz(x0) = %d; signal-to-noise ratio: %.2f\\n', nnz(x0), norm(A*x0)^2/norm(v)^2)\n",
    "\n",
    "gamma_max = norm(A'*b,'inf')\n",
    "gamma = 0.1*gamma_max\n",
    "\n",
    "% cached computations for all methods\n",
    "AtA = A'*A;\n",
    "Atb = A'*b;"
   ]
  }
 ],
 "metadata": {
  "kernelspec": {
   "display_name": "Python 3",
   "language": "python",
   "name": "python3"
  },
  "language_info": {
   "codemirror_mode": {
    "name": "ipython",
    "version": 3
   },
   "file_extension": ".py",
   "mimetype": "text/x-python",
   "name": "python",
   "nbconvert_exporter": "python",
   "pygments_lexer": "ipython3",
   "version": "3.7.6"
  }
 },
 "nbformat": 4,
 "nbformat_minor": 4
}
