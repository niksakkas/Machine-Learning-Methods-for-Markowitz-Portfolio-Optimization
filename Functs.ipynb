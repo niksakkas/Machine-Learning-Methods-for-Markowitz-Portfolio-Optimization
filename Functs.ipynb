{
 "cells": [
  {
   "cell_type": "markdown",
   "metadata": {},
   "source": [
    "### Gradient Descent Functions"
   ]
  },
  {
   "cell_type": "code",
   "execution_count": 1,
   "metadata": {},
   "outputs": [],
   "source": [
    "import numpy as np\n",
    "\n",
    "def f(Phi, w, w_ew):\n",
    "#     x = sym.MatrixSymbol('x', 48, 1)\n",
    "#     y = np.zeros((1,48))\n",
    "#     print(\"x shape:\", x.shape)\n",
    "#     print(\"y shape:\", y.shape)\n",
    "    fx = np.dot(np.transpose(np.dot(Phi, w) - w_ew), (np.dot(Phi, w) - w_ew))\n",
    "    return fx \n",
    "\n",
    "def g(Phi, w, w_ew):\n",
    "#     x = sym.MatrixSymbol('x', 48, 1)\n",
    "    gx = np.dot(np.transpose(Phi), np.dot(Phi,w) - w_ew)\n",
    "    return gx\n",
    "\n",
    "def p(w, k):\n",
    "    px = GSSP(w,1,k)\n",
    "    return px"
   ]
  },
  {
   "cell_type": "code",
   "execution_count": null,
   "metadata": {},
   "outputs": [],
   "source": []
  }
 ],
 "metadata": {
  "kernelspec": {
   "display_name": "Python 3",
   "language": "python",
   "name": "python3"
  },
  "language_info": {
   "codemirror_mode": {
    "name": "ipython",
    "version": 3
   },
   "file_extension": ".py",
   "mimetype": "text/x-python",
   "name": "python",
   "nbconvert_exporter": "python",
   "pygments_lexer": "ipython3",
   "version": "3.8.5"
  }
 },
 "nbformat": 4,
 "nbformat_minor": 4
}
