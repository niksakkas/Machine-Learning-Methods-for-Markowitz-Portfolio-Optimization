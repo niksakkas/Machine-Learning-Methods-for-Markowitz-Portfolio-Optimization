{
 "cells": [
  {
   "cell_type": "code",
   "execution_count": 3,
   "metadata": {},
   "outputs": [],
   "source": [
    "import numpy as np\n",
    "import pywt\n",
    "\n",
    "def apply_sum_constraint(v):\n",
    "    v_sum = np.sum(v)\n",
    "    if v_sum == 0: \n",
    "        return v\n",
    "    return v / v_sum\n",
    "\n",
    "def proximal_f(R, w, y):\n",
    "    fx = np.dot(np.transpose(np.dot(R, w) - y), (np.dot(R, w) - y)) \n",
    "    return fx\n",
    "    \n",
    "def proximal_g(R, w, y):\n",
    "    gx = np.dot(np.transpose(R), np.dot(R,w) - y)\n",
    "    return gx\n",
    "    \n",
    "    \n",
    "    \n",
    "def proximal_gradient_descent(x0,s,alpha,beta,epsilon, max_iter, R, y):\n",
    "    x = x0\n",
    "    grad = proximal_g(R,x,y)\n",
    "    it = 0\n",
    "    while np.linalg.norm(grad) > epsilon and it < max_iter:\n",
    "        fun_val = proximal_f(R,x,y)\n",
    "        it+=1\n",
    "        t=s\n",
    "        while ((fun_val - proximal_f(R,x-t*grad,y)) < alpha*t*(np.linalg.norm(grad)))**2:\n",
    "            t *= beta\n",
    "        grad = proximal_g(R,x,y)\n",
    "\n",
    "        x = x - t*grad\n",
    "        x = pywt.threshold(x, 0.002, 'soft')\n",
    "        x = apply_sum_constraint(x)\n",
    "        \n",
    "    return x"
   ]
  },
  {
   "cell_type": "code",
   "execution_count": null,
   "metadata": {},
   "outputs": [],
   "source": []
  }
 ],
 "metadata": {
  "kernelspec": {
   "display_name": "Python 3",
   "language": "python",
   "name": "python3"
  },
  "language_info": {
   "codemirror_mode": {
    "name": "ipython",
    "version": 3
   },
   "file_extension": ".py",
   "mimetype": "text/x-python",
   "name": "python",
   "nbconvert_exporter": "python",
   "pygments_lexer": "ipython3",
   "version": "3.8.5"
  }
 },
 "nbformat": 4,
 "nbformat_minor": 4
}
