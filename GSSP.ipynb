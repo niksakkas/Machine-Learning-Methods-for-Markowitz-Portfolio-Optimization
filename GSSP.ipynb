{
 "cells": [
  {
   "cell_type": "markdown",
   "metadata": {},
   "source": [
    "### GSSP"
   ]
  },
  {
   "cell_type": "code",
   "execution_count": 1,
   "metadata": {},
   "outputs": [],
   "source": [
    "import numpy as np\n",
    "import cvxpy as cp\n",
    "import sympy as sym\n",
    "import pandas as pd\n",
    "from sklearn import preprocessing\n",
    "from pandas import DataFrame, read_csv\n",
    "import matplotlib.pyplot as plt"
   ]
  },
  {
   "cell_type": "code",
   "execution_count": 4,
   "metadata": {},
   "outputs": [],
   "source": [
    "def Plambda(v1,sigma):\n",
    "    vtemp = np.sort(v1,0)[::-1]\n",
    "    inds = np.argsort(v1,0)[::-1]\n",
    "    j = 0\n",
    "    while j < len(vtemp):\n",
    "        tau = (sum(vtemp[0:j+1]) - sigma)/(j+1)\n",
    "        if vtemp[j] > tau:\n",
    "            j = j + 1\n",
    "        else:\n",
    "            break\n",
    "    tau = (sum(vtemp[0:j]) - sigma)/(j)\n",
    "    vtemp2 = vtemp - tau\n",
    "    for x in range(len(vtemp2)):\n",
    "        if vtemp2[x]<0:\n",
    "            vtemp2[x]=0\n",
    "    v2 = np.zeros(len(v1))\n",
    "    v2[inds] = vtemp2\n",
    "    return(v2)"
   ]
  },
  {
   "cell_type": "code",
   "execution_count": 3,
   "metadata": {},
   "outputs": [],
   "source": [
    "def GSSP(w,l,k):\n",
    "# INPUT: vector x and (scalar) parameter lambda and sparsity k\n",
    "# OUTPUT: w in simplex.\n",
    "    N = len(w);\n",
    "    indices = np.argsort(w, 0)[::-1]\n",
    "    S = indices[0:k]\n",
    "    ws = w[S]\n",
    "    utemp1 = Plambda(w[S],l)\n",
    "    u = np.zeros((N, 1))\n",
    "    a=0\n",
    "    for x in S:\n",
    "        u[x] = utemp1[a]\n",
    "        a += 1\n",
    "    return(u)"
   ]
  },
  {
   "cell_type": "code",
   "execution_count": null,
   "metadata": {},
   "outputs": [],
   "source": []
  }
 ],
 "metadata": {
  "kernelspec": {
   "display_name": "Python 3",
   "language": "python",
   "name": "python3"
  },
  "language_info": {
   "codemirror_mode": {
    "name": "ipython",
    "version": 3
   },
   "file_extension": ".py",
   "mimetype": "text/x-python",
   "name": "python",
   "nbconvert_exporter": "python",
   "pygments_lexer": "ipython3",
   "version": "3.8.5"
  }
 },
 "nbformat": 4,
 "nbformat_minor": 4
}
